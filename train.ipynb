{
  "nbformat": 4,
  "nbformat_minor": 0,
  "metadata": {
    "colab": {
      "name": "train.ipynb",
      "provenance": [],
      "authorship_tag": "ABX9TyM1kRZTyiE/ioUl1duhExvm",
      "include_colab_link": true
    },
    "kernelspec": {
      "name": "python3",
      "display_name": "Python 3"
    }
  },
  "cells": [
    {
      "cell_type": "markdown",
      "metadata": {
        "id": "view-in-github",
        "colab_type": "text"
      },
      "source": [
        "<a href=\"https://colab.research.google.com/github/bickrombishsass/Train-Time-Table/blob/master/train.ipynb\" target=\"_parent\"><img src=\"https://colab.research.google.com/assets/colab-badge.svg\" alt=\"Open In Colab\"/></a>"
      ]
    },
    {
      "cell_type": "code",
      "metadata": {
        "id": "cNtbAoE0JXOK",
        "colab_type": "code",
        "colab": {}
      },
      "source": [
        "import requests\n",
        "import json\n",
        "from bs4 import BeautifulSoup\n",
        "from pprint import pprint\n",
        "import sys\n",
        "import datetime"
      ],
      "execution_count": null,
      "outputs": []
    },
    {
      "cell_type": "code",
      "metadata": {
        "id": "0nrNPOaINbj0",
        "colab_type": "code",
        "colab": {
          "base_uri": "https://localhost:8080/",
          "height": 67
        },
        "outputId": "73ccfe6c-f1f9-4bb0-b3cc-f6c697f072a0"
      },
      "source": [
        "source_stn = input(\"Enter Source Station code : \") \n",
        "dest_stn = input(\"Enter Destination Station code : \") \n",
        "date, month, year = input(\"Enter date : \").split('/') "
      ],
      "execution_count": null,
      "outputs": [
        {
          "output_type": "stream",
          "text": [
            "Enter Source Station code : NZM\n",
            "Enter Destination Station code : HWH\n",
            "Enter date : 20/05/20\n"
          ],
          "name": "stdout"
        }
      ]
    },
    {
      "cell_type": "code",
      "metadata": {
        "id": "_NLAMsAxNcg6",
        "colab_type": "code",
        "colab": {}
      },
      "source": [
        "url = 'https://www.railyatri.in/booking/trains-between-stations?from_code='+\\\n",
        "\t  source_stn+'&from_name=SRC+&journey_date='+date+'%2F'+month+'%2F'+year+'%2F'+'&to_code='+\\\n",
        "\t  dest_stn+'&to_name=DST+&user_id=1&user_token=6'"
      ],
      "execution_count": null,
      "outputs": []
    },
    {
      "cell_type": "code",
      "metadata": {
        "id": "RpGF8hpZ-qjv",
        "colab_type": "code",
        "colab": {
          "base_uri": "https://localhost:8080/",
          "height": 34
        },
        "outputId": "0cbd4ca3-c851-4e74-8831-9535c1a64065"
      },
      "source": [
        "url"
      ],
      "execution_count": null,
      "outputs": [
        {
          "output_type": "execute_result",
          "data": {
            "text/plain": [
              "'https://www.railyatri.in/booking/trains-between-stations?from_code=NZM&from_name=SRC+&journey_date=20%2F05%2F20%2F&to_code=HWH&to_name=DST+&user_id=1&user_token=6'"
            ]
          },
          "metadata": {
            "tags": []
          },
          "execution_count": 48
        }
      ]
    },
    {
      "cell_type": "code",
      "metadata": {
        "id": "fCAxPmch9q2U",
        "colab_type": "code",
        "colab": {}
      },
      "source": [
        "r = requests.get(url)\n",
        "soup = BeautifulSoup(r.text, 'html.parser')\n",
        "trains = []"
      ],
      "execution_count": null,
      "outputs": []
    },
    {
      "cell_type": "code",
      "metadata": {
        "id": "NyXVdmy19r8J",
        "colab_type": "code",
        "colab": {}
      },
      "source": [
        "for row in soup.select('tr.tbs-main-row'):\n",
        "\tdata = {}\n",
        "\ttitle = row.find('p', {'class': 'train-name-title'}).text.strip('\\n')\n",
        "\tdata['trn_no'] = title[:5]\n",
        "\tdata['trn_name'] = title[8:]\n",
        "\tdata['schedule'] = 'https://erail.in/train-enquiry/'+title[:5]\n",
        "\tspans = row.find_all('span')[:6]\n",
        "\tdata['source'] = source_stn\n",
        "\tdata['departure time'] = spans[1].text\n",
        "\tdata['destination'] = dest_stn\n",
        "\tdata['arrival time'] = spans[4].text\n",
        "\tdata['duration'] = spans[5].text\n",
        "\tdata['fares'] = []\n",
        "\tclasses = row.find_all('div', {'class': 'coach'})\n",
        "\tfor i in range(len(classes)//2):\n",
        "\t\tpair = {}\n",
        "\t\tdeets = classes[i].find_all('p')\n",
        "\t\tpair['Class'] = deets[0].text\n",
        "\t\tpair['Price'] = deets[1].text\n",
        "\t\tif pair['Price'] == '₹ NA':\n",
        "\t\t\tcontinue\n",
        "\t\tdata['fares'].append(pair)\n",
        "\tif len(data['fares']) != 0:\n",
        "\t\ttrains.append(data)"
      ],
      "execution_count": null,
      "outputs": []
    },
    {
      "cell_type": "code",
      "metadata": {
        "id": "BkHHtMmy-eXG",
        "colab_type": "code",
        "colab": {
          "base_uri": "https://localhost:8080/",
          "height": 34
        },
        "outputId": "26ad7555-9fe4-43f4-e5b5-d785a4965cb1"
      },
      "source": [
        "import pandas as pd\n",
        "df=pd.DataFrame(trains)\n",
        "df.shape"
      ],
      "execution_count": null,
      "outputs": [
        {
          "output_type": "execute_result",
          "data": {
            "text/plain": [
              "(0, 0)"
            ]
          },
          "metadata": {
            "tags": []
          },
          "execution_count": 51
        }
      ]
    },
    {
      "cell_type": "code",
      "metadata": {
        "id": "yXAkF5Du-gFl",
        "colab_type": "code",
        "colab": {}
      },
      "source": [
        ""
      ],
      "execution_count": null,
      "outputs": []
    }
  ]
}